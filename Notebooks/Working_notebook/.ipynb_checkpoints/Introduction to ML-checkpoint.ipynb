{
 "cells": [
  {
   "cell_type": "markdown",
   "id": "f19b8fac",
   "metadata": {},
   "source": [
    "## Introduction to ML:\n",
    "\n",
    "<img src=\"https://cdn-images-1.medium.com/max/922/1*8Acse64iGkN17YycNyR0lw.png\" style=\"height: 370px; width:700px;\">"
   ]
  },
  {
   "cell_type": "markdown",
   "id": "96afc98a",
   "metadata": {},
   "source": [
    "# Data Processing Pipline:\n",
    "\n",
    "<img src=\"https://www.researchgate.net/profile/Benyamina-Hamza/publication/353620685/figure/fig1/AS:1051936119873536@1627812523439/Machine-learning-pipeline.ppm\"/>"
   ]
  },
  {
   "cell_type": "markdown",
   "id": "3bba4e49",
   "metadata": {},
   "source": [
    "## Data Loading:\n",
    "\n",
    "### Context\n",
    "Coronavirus disease (COVID-19) is an infectious disease caused by a newly discovered coronavirus. Most people infected with COVID-19 virus will experience mild to moderate respiratory illness and recover without requiring special treatment. Older people, and those with underlying medical problems like cardiovascular disease, diabetes, chronic respiratory disease, and cancer are more likely to develop serious illness.\n",
    "During the entire course of the pandemic, one of the main problems that healthcare providers have faced is the shortage of medical resources and a proper plan to efficiently distribute them. In these tough times, being able to predict what kind of resource an individual might require at the time of being tested positive or even before that will be of immense help to the authorities as they would be able to procure and arrange for the resources necessary to save the life of that patient.\n",
    "\n",
    "The main goal of this project is to build a machine learning model that, given a Covid-19 patient's current symptom, status, and medical history, will predict whether the patient is in high risk or not.\n",
    "\n",
    "### content\n",
    "The dataset was provided by the Mexican government (link). This dataset contains an enormous number of anonymized patient-related information including pre-conditions. The raw dataset consists of 21 unique features and 1,048,576 unique patients. In the Boolean features, 1 means \"yes\" and 2 means \"no\". values as 97 and 99 are missing data.\n",
    "\n",
    "- **sex**: 1 for female and 2 for male.\n",
    "- **age**: of the patient.\n",
    "- **classification**: covid test findings. Values 1-3 mean that the patient was diagnosed with covid in different degrees. 4 or higher means that the patient is not a carrier of covid or that the test is inconclusive.\n",
    "- **patient type**: type of care the patient received in the unit. 1 for returned home and 2 for hospitalization.\n",
    "- **pneumonia**: whether the patient already have air sacs inflammation or not.\n",
    "- **pregnancy**: whether the patient is pregnant or not.\n",
    "- **diabetes**: whether the patient has diabetes or not.\n",
    "- **copd**: Indicates whether the patient has Chronic obstructive pulmonary disease or not.\n",
    "- **asthma**: whether the patient has asthma or not.\n",
    "- **inmsupr**: whether the patient is immunosuppressed or not.\n",
    "- **hypertension**: whether the patient has hypertension or not.\n",
    "- **cardiovascular**: whether the patient has heart or blood vessels related disease.\n",
    "- **renal chronic**: whether the patient has chronic renal disease or not.\n",
    "- **other disease**: whether the patient has other disease or not.\n",
    "- **obesity**: whether the patient is obese or not.\n",
    "- **tobacco**: whether the patient is a tobacco user.\n",
    "- **usmr**: Indicates whether the patient treated medical units of the first, second or third level.\n",
    "- **medical unit**: type of institution of the National Health System that provided the care.\n",
    "- **intubed**: whether the patient was connected to the ventilator.\n",
    "- **icu**: Indicates whether the patient had been admitted to an Intensive Care Unit.\n",
    "- **date died**: If the patient died indicate the date of death, and 9999-99-99 otherwise.\n",
    "\n",
    "[Link to dataset](https://www.kaggle.com/datasets/meirnizri/covid19-dataset)"
   ]
  },
  {
   "cell_type": "code",
   "execution_count": null,
   "id": "02467f92",
   "metadata": {},
   "outputs": [],
   "source": []
  },
  {
   "cell_type": "markdown",
   "id": "bd9d9ff6",
   "metadata": {},
   "source": [
    "## Data Preprocessing:\n",
    "\n",
    "- Dealing with mising data\n",
    "\n",
    "- Encoding the features\n",
    "\n",
    "[Preprocessing in Scikit-learn](https://scikit-learn.org/stable/modules/preprocessing.html)\n",
    "\n",
    "In the Boolean features, 1 means \"yes\" and 2 means \"no\". values as 97 and 99 are **missing** data."
   ]
  },
  {
   "cell_type": "code",
   "execution_count": null,
   "id": "2b270943",
   "metadata": {},
   "outputs": [],
   "source": []
  },
  {
   "cell_type": "markdown",
   "id": "330311da",
   "metadata": {},
   "source": [
    "## Data Visualization:\n",
    "\n",
    "[Matplotlib](https://matplotlib.org/)\n",
    "\n",
    "[Seaborn](https://seaborn.pydata.org/)\n",
    "\n",
    "[Plotly](https://plotly.com/)"
   ]
  },
  {
   "cell_type": "code",
   "execution_count": null,
   "id": "dc84984e",
   "metadata": {},
   "outputs": [],
   "source": []
  },
  {
   "cell_type": "markdown",
   "id": "153704e1",
   "metadata": {},
   "source": [
    "## Dimension Reduction:\n",
    "\n",
    "<img src=\"https://lazyprogrammer.me/wp-content/uploads/2015/11/PCA.jpg\" style=\"height: 300px; width:300px;\">\n",
    "\n",
    "- Step 1: Get some data\n",
    "- Step 2: Subtract the mean\n",
    "- Step 3: Calculate the covariance matrix\n",
    "- Step 4: Calculate the eigenvectors and eigenvalues of the covariance matrix\n",
    "- Step 5: Choosing components and forming a feature vector\n",
    "- Step 6: Deriving the new data set\n",
    "\n",
    "[PCA in Scikit-Learn](https://scikit-learn.org/stable/modules/generated/sklearn.decomposition.PCA.html)"
   ]
  },
  {
   "cell_type": "code",
   "execution_count": null,
   "id": "207ceebf",
   "metadata": {},
   "outputs": [],
   "source": []
  },
  {
   "cell_type": "markdown",
   "id": "42e86ec3",
   "metadata": {},
   "source": [
    "## Model Fitting:\n",
    "\n",
    "### Decision Tree:\n",
    "\n",
    "<img src=\"https://static.javatpoint.com/tutorial/machine-learning/images/decision-tree-classification-algorithm.png\">\n",
    "\n",
    "- Information Gain\n",
    "- Gain Ratio\n",
    "- Gini Index\n",
    "\n",
    "[Decision Tree in Scikit-learn](https://scikit-learn.org/stable/modules/generated/sklearn.tree.DecisionTreeClassifier.html#sklearn.tree.DecisionTreeClassifier)\n",
    "\n",
    "### Random Forest:\n",
    "<img src=\"https://www.tibco.com/sites/tibco/files/media_entity/2021-05/random-forest-diagram.svg\" style=\"height: 550px; width:700px;\">\n",
    "\n",
    "[Random Forest in Scikit-learn](https://scikit-learn.org/stable/modules/generated/sklearn.ensemble.RandomForestClassifier.html)\n"
   ]
  },
  {
   "cell_type": "code",
   "execution_count": null,
   "id": "f8506cb4",
   "metadata": {},
   "outputs": [],
   "source": []
  },
  {
   "cell_type": "markdown",
   "id": "f288a87b",
   "metadata": {},
   "source": [
    "## Model Evalution\n",
    "\n",
    "<img src=\"https://static.packt-cdn.com/products/9781838555078/graphics/C13314_06_05.jpg\" style=\"height: 250px; width:500px;\">\n",
    "\n",
    "\n",
    "- $Accuracy = \\frac{TP + TN}{N}$\n",
    "\n",
    "\n",
    "- $Percision = \\frac{TP}{TP + FP}$\n",
    "\n",
    "\n",
    "- $Recall = \\frac{TP}{TP + FN}$\n",
    "\n",
    "\n",
    "- $F_1 Score = 2 \\times \\frac{Percision \\times Recall}{Percision + Recall}$\n",
    "\n",
    "\n",
    "[Metrics in Scikit-learn](https://scikit-learn.org/stable/modules/model_evaluation.html)"
   ]
  },
  {
   "cell_type": "code",
   "execution_count": null,
   "id": "de3937a3",
   "metadata": {},
   "outputs": [],
   "source": []
  },
  {
   "cell_type": "markdown",
   "id": "2bf41b0f",
   "metadata": {},
   "source": [
    "<img src=\"https://scikit-learn.org/stable/_static/ml_map.png\">"
   ]
  }
 ],
 "metadata": {
  "kernelspec": {
   "display_name": "Python 3 (ipykernel)",
   "language": "python",
   "name": "python3"
  },
  "language_info": {
   "codemirror_mode": {
    "name": "ipython",
    "version": 3
   },
   "file_extension": ".py",
   "mimetype": "text/x-python",
   "name": "python",
   "nbconvert_exporter": "python",
   "pygments_lexer": "ipython3",
   "version": "3.10.6"
  }
 },
 "nbformat": 4,
 "nbformat_minor": 5
}
